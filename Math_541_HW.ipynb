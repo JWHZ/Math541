{
  "metadata": {
    "kernelspec": {
      "name": "python",
      "display_name": "Python (Pyodide)",
      "language": "python"
    },
    "language_info": {
      "codemirror_mode": {
        "name": "python",
        "version": 3
      },
      "file_extension": ".py",
      "mimetype": "text/x-python",
      "name": "python",
      "nbconvert_exporter": "python",
      "pygments_lexer": "ipython3",
      "version": "3.8"
    }
  },
  "nbformat_minor": 4,
  "nbformat": 4,
  "cells": [
    {
      "cell_type": "markdown",
      "source": "Quetion 5:\n\n    Parameters:\n    P (numpy array/2D list): The N x N transition matrix of the Markov chain\n    x (int): The initial state (1 ≤ x ≤ N)\n    y (int): The state at time step n (1 ≤ y ≤ N)\n    n (int): The number of time steps\n    \n    Returns:\n    float: The probability p^n(x, y)\n",
      "metadata": {}
    },
    {
      "cell_type": "code",
      "source": "import numpy as np\ndef f(P, x, y, n):\n   \n    # Step 1: Initialize a probability vector for the initial state x\n    prob_vector = [0] * len(P)  # Initialize a vector of zeros with length N\n    prob_vector[x - 1] = 1       # Set the initial state probability to 1\n    \n    # Step 2: Multiply the probability vector by the transition matrix n times\n    for _ in range(n): \n        prob_vector = np.dot(prob_vector,p)\n        \n    # Step 3: Return the probability of being in state y after n steps\n    return prob_vector[y - 1]     # Return the y-th element\n",
      "metadata": {
        "trusted": true
      },
      "outputs": [],
      "execution_count": 3
    },
    {
      "cell_type": "markdown",
      "source": "Question 6:\n\n    Simulates a Markov chain and returns a sequence of states.\n    \n    Parameters:\n    P (2D list or numpy array): The transition matrix of the Markov chain\n    x (int): The initial state\n    n (int): The number of time steps",
      "metadata": {}
    },
    {
      "cell_type": "code",
      "source": "import random\nimport numpy as np\n\ndef g(P, x, n):\n    prob = 1\n    state_sequence = [x]  # Initialize the sequence with the starting state\n    \n    for _ in range(n):\n        current_state = state_sequence[-1]  # Get the current state\n        next_state = random.choices(range(1, len(P)+1), weights=P[current_state-1])[0]\n        prob *= P[current_state-1][next_state-1] # Tracks the paobability of the sequence\n        state_sequence.append(next_state)\n        \n    state_sequence.insert(0,prob) # Tracks the probability of the sequence at the end\n    return state_sequence\n\n#Testing\nP = [0, 1, 0], [0, 0, 1], [.1, .3, .6]\nx=1\nn=3\nfor _ in range(5):\n    print (g(P,x,n))",
      "metadata": {
        "trusted": true
      },
      "outputs": [
        {
          "name": "stdout",
          "text": "[0.6, 1, 2, 3, 3]\n[0.3, 1, 2, 3, 2]\n[0.1, 1, 2, 3, 1]\n[0.3, 1, 2, 3, 2]\n[0.6, 1, 2, 3, 3]\n",
          "output_type": "stream"
        }
      ],
      "execution_count": 58
    },
    {
      "cell_type": "markdown",
      "source": "    Approximates the probability p^n(x, y) by running many simulations of the Markov chain.\n    \n    Parameters:\n    P (2D list or numpy array): The transition matrix of the Markov chain\n    x (int): The initial state\n    y (int): The target state\n    n (int): The number of time steps\n    num_simulations (int): The number of simulations to run",
      "metadata": {}
    },
    {
      "cell_type": "code",
      "source": "\ndef approximate(P, x, y, n, num_simulations):\n\n    count = 0\n    \n    for _ in range(num_simulations):\n        sequence = g(P, x, n)\n        if sequence[-1] == y:\n            count += 1\n    \n    return count / num_simulations # The approximate probability p^n(x, y)\n\nP = [0, 1, 0], [0, 0, 1], [.1, .3, .6]\nx,n = 1,3\nprint(approximate(P,x,1,n,5000))\nprint(approximate(P,x,2,n,5000))\nprint(approximate(P,x,3,n,5000))",
      "metadata": {
        "trusted": true
      },
      "outputs": [
        {
          "name": "stdout",
          "text": "0.0956\n0.3064\n0.6062\n",
          "output_type": "stream"
        }
      ],
      "execution_count": 63
    },
    {
      "cell_type": "code",
      "source": "",
      "metadata": {
        "trusted": true
      },
      "outputs": [],
      "execution_count": null
    }
  ]
}